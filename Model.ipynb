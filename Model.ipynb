{
 "cells": [
  {
   "cell_type": "code",
   "execution_count": 44,
   "id": "1662997f-35f2-483a-93fd-749d8c6cee13",
   "metadata": {},
   "outputs": [],
   "source": [
    "import pandas as pd\n",
    "from types import GeneratorType\n",
    "#Nested cross validation\n",
    "from cv import NestedCV\n",
    "from darts import TimeSeries\n",
    "from darts.models import RNNModel,NBEATSModel,XGBModel\n",
    "from darts.dataprocessing.transformers import Scaler\n",
    "from darts.metrics import mape\n",
    "from prophet import Prophet\n",
    "import numpy as np\n",
    "from datetime import datetime, timedelta"
   ]
  },
  {
   "cell_type": "markdown",
   "id": "c93a09d3-df27-4017-8f27-3d23dbab3e82",
   "metadata": {},
   "source": [
    "# Objectives\n",
    "<h3>\n",
    "1)Test cases to check the implementation of NestedCV <br/>\n",
    "2)Build a timeseries model and use the cross validation technique for model evaluation\n",
    "</h3>"
   ]
  },
  {
   "cell_type": "code",
   "execution_count": 45,
   "id": "73542d2d-53c8-4933-8d98-e5906eb81bfe",
   "metadata": {},
   "outputs": [],
   "source": [
    "# Creating sample dataset for testing NestedCV\n",
    "start_date = datetime(2022, 1, 1)\n",
    "end_date = datetime(2022, 2, 28)\n",
    "date_range = pd.date_range(start_date, end_date, freq='D')\n",
    "\n",
    "data = {\n",
    "    'date': np.repeat(date_range, 3),  # Repeat each date three times for three groups\n",
    "    'group_column': np.tile(['Group1', 'Group2', 'Group3'], len(date_range)),\n",
    "    'value': np.random.randn(len(date_range) * 3)\n",
    "}\n",
    "data = pd.DataFrame(data)\n",
    "data[\"date\"] = pd.to_datetime(data[\"date\"])\n",
    "\n",
    "# nested cv\n",
    "k = 3\n",
    "cv = NestedCV(k)\n",
    "splits = cv.split(data, \"date\")\n",
    "\n",
    "# check return type\n",
    "assert isinstance(splits, GeneratorType)\n",
    "\n",
    "# check return types, shapes, and data leaks\n",
    "count = 0\n",
    "for train, validate in splits:\n",
    "    \n",
    "    # types\n",
    "    assert isinstance(train, pd.DataFrame)\n",
    "    assert isinstance(validate, pd.DataFrame)\n",
    "\n",
    "    # shape\n",
    "    assert train.shape[1] == validate.shape[1]\n",
    "\n",
    "    # data leak\n",
    "    assert train[\"date\"].max() <= validate[\"date\"].min()\n",
    "\n",
    "    count += 1\n",
    "\n",
    "# check number of splits returned\n",
    "assert count == k"
   ]
  },
  {
   "cell_type": "markdown",
   "id": "f7806234-37e1-4586-bb79-7401afdddcc4",
   "metadata": {},
   "source": [
    "# We will be using the dataset provided in the assessment to construct basic time series models and validate our cross-validation logic."
   ]
  },
  {
   "cell_type": "code",
   "execution_count": 25,
   "id": "5c89a329-a425-46d8-87ed-066074e6bfd3",
   "metadata": {},
   "outputs": [],
   "source": [
    "data = pd.read_csv(\"train.csv\")\n",
    "data=data[~data[\"date\"].isna()]"
   ]
  },
  {
   "cell_type": "code",
   "execution_count": 26,
   "id": "6ddcf651-7a0c-4cef-ade8-47c8aa7aeea4",
   "metadata": {},
   "outputs": [
    {
     "data": {
      "text/plain": [
       "'M'"
      ]
     },
     "execution_count": 26,
     "metadata": {},
     "output_type": "execute_result"
    }
   ],
   "source": [
    "#this dataset contains monthly frequency.\n",
    "pd.infer_freq(data['date'].unique())"
   ]
  },
  {
   "cell_type": "markdown",
   "id": "ee924e3a-c53c-466e-a08e-cd9f350bbf0c",
   "metadata": {},
   "source": [
    "<h2>We will be building a time series model to forecast demand for each brand</h2>\n",
    "\n",
    "1)First, we will try simple machine learning models such as Facebook Prophet.  <br/>\n",
    "2)Next, we will explore some deep learning models. \n"
   ]
  },
  {
   "cell_type": "code",
   "execution_count": 27,
   "id": "e7f4fc7c-a5a2-45e3-b826-2dba05a98088",
   "metadata": {},
   "outputs": [
    {
     "data": {
      "text/plain": [
       "array(['kinder-cola', 'adult-cola', 'orange-power', 'gazoza',\n",
       "       'lemon-boost'], dtype=object)"
      ]
     },
     "execution_count": 27,
     "metadata": {},
     "output_type": "execute_result"
    }
   ],
   "source": [
    "#Number of unique Brands\n",
    "data[\"brand\"].unique()"
   ]
  },
  {
   "cell_type": "code",
   "execution_count": 31,
   "id": "b893cd5b-2679-44cb-8078-2749ecb7802a",
   "metadata": {},
   "outputs": [
    {
     "name": "stdout",
     "output_type": "stream",
     "text": [
      "kinder-cola\n",
      "Data points 1296\n",
      "Start Date: 28/02/13\n",
      "End Date: 31/12/17\n",
      "adult-cola\n",
      "Data points 1296\n",
      "Start Date: 28/02/13\n",
      "End Date: 31/12/17\n",
      "orange-power\n",
      "Data points 1296\n",
      "Start Date: 28/02/13\n",
      "End Date: 31/12/17\n",
      "gazoza\n",
      "Data points 1296\n",
      "Start Date: 28/02/13\n",
      "End Date: 31/12/17\n",
      "lemon-boost\n",
      "Data points 1296\n",
      "Start Date: 28/02/13\n",
      "End Date: 31/12/17\n"
     ]
    }
   ],
   "source": [
    "# Check the number of data points, maximum date, and minimum date for each brand\n",
    "for b in data[\"brand\"].unique():\n",
    "    print(b)\n",
    "    temp=data[data[\"brand\"]==b]\n",
    "    print(f\"Data points {len(temp)}\")\n",
    "    print(f\"Start Date: {temp['date'].min()}\")\n",
    "    print(f\"End Date: {temp['date'].max()}\")"
   ]
  },
  {
   "cell_type": "code",
   "execution_count": 16,
   "id": "22c0f0ca-b800-4b8f-93c7-047ac853db2e",
   "metadata": {},
   "outputs": [],
   "source": [
    "#There are no missing values in the dataset\n",
    "data=data[[\"date\",\"brand\",\"quantity\"]]\n",
    "data['date'] = pd.to_datetime(data['date'], format='%d/%m/%y')\n",
    "data.set_index('date', inplace=True)\n",
    "#Resample the data to monthly frequency on the basis of brand\n",
    "resampled_data=data.groupby(['brand', pd.Grouper(freq='M')]).sum().reset_index()"
   ]
  },
  {
   "cell_type": "code",
   "execution_count": 17,
   "id": "75f7745a-511e-4470-82d4-e897cb798d5d",
   "metadata": {},
   "outputs": [
    {
     "data": {
      "text/html": [
       "<div>\n",
       "<style scoped>\n",
       "    .dataframe tbody tr th:only-of-type {\n",
       "        vertical-align: middle;\n",
       "    }\n",
       "\n",
       "    .dataframe tbody tr th {\n",
       "        vertical-align: top;\n",
       "    }\n",
       "\n",
       "    .dataframe thead th {\n",
       "        text-align: right;\n",
       "    }\n",
       "</style>\n",
       "<table border=\"1\" class=\"dataframe\">\n",
       "  <thead>\n",
       "    <tr style=\"text-align: right;\">\n",
       "      <th></th>\n",
       "      <th>brand</th>\n",
       "      <th>date</th>\n",
       "      <th>quantity</th>\n",
       "    </tr>\n",
       "  </thead>\n",
       "  <tbody>\n",
       "    <tr>\n",
       "      <th>0</th>\n",
       "      <td>adult-cola</td>\n",
       "      <td>2012-01-31</td>\n",
       "      <td>315852.0</td>\n",
       "    </tr>\n",
       "    <tr>\n",
       "      <th>1</th>\n",
       "      <td>adult-cola</td>\n",
       "      <td>2012-02-29</td>\n",
       "      <td>232201.0</td>\n",
       "    </tr>\n",
       "    <tr>\n",
       "      <th>2</th>\n",
       "      <td>adult-cola</td>\n",
       "      <td>2012-03-31</td>\n",
       "      <td>359081.0</td>\n",
       "    </tr>\n",
       "    <tr>\n",
       "      <th>3</th>\n",
       "      <td>adult-cola</td>\n",
       "      <td>2012-04-30</td>\n",
       "      <td>444008.0</td>\n",
       "    </tr>\n",
       "    <tr>\n",
       "      <th>4</th>\n",
       "      <td>adult-cola</td>\n",
       "      <td>2012-05-31</td>\n",
       "      <td>469280.0</td>\n",
       "    </tr>\n",
       "    <tr>\n",
       "      <th>...</th>\n",
       "      <td>...</td>\n",
       "      <td>...</td>\n",
       "      <td>...</td>\n",
       "    </tr>\n",
       "    <tr>\n",
       "      <th>355</th>\n",
       "      <td>orange-power</td>\n",
       "      <td>2017-08-31</td>\n",
       "      <td>776399.0</td>\n",
       "    </tr>\n",
       "    <tr>\n",
       "      <th>356</th>\n",
       "      <td>orange-power</td>\n",
       "      <td>2017-09-30</td>\n",
       "      <td>646508.0</td>\n",
       "    </tr>\n",
       "    <tr>\n",
       "      <th>357</th>\n",
       "      <td>orange-power</td>\n",
       "      <td>2017-10-31</td>\n",
       "      <td>550004.0</td>\n",
       "    </tr>\n",
       "    <tr>\n",
       "      <th>358</th>\n",
       "      <td>orange-power</td>\n",
       "      <td>2017-11-30</td>\n",
       "      <td>434359.0</td>\n",
       "    </tr>\n",
       "    <tr>\n",
       "      <th>359</th>\n",
       "      <td>orange-power</td>\n",
       "      <td>2017-12-31</td>\n",
       "      <td>650151.0</td>\n",
       "    </tr>\n",
       "  </tbody>\n",
       "</table>\n",
       "<p>360 rows × 3 columns</p>\n",
       "</div>"
      ],
      "text/plain": [
       "            brand       date  quantity\n",
       "0      adult-cola 2012-01-31  315852.0\n",
       "1      adult-cola 2012-02-29  232201.0\n",
       "2      adult-cola 2012-03-31  359081.0\n",
       "3      adult-cola 2012-04-30  444008.0\n",
       "4      adult-cola 2012-05-31  469280.0\n",
       "..            ...        ...       ...\n",
       "355  orange-power 2017-08-31  776399.0\n",
       "356  orange-power 2017-09-30  646508.0\n",
       "357  orange-power 2017-10-31  550004.0\n",
       "358  orange-power 2017-11-30  434359.0\n",
       "359  orange-power 2017-12-31  650151.0\n",
       "\n",
       "[360 rows x 3 columns]"
      ]
     },
     "execution_count": 17,
     "metadata": {},
     "output_type": "execute_result"
    }
   ],
   "source": [
    "resampled_data"
   ]
  },
  {
   "cell_type": "markdown",
   "id": "0efada48-1dbf-402a-8259-83e098b9bdee",
   "metadata": {},
   "source": [
    "## Prophet"
   ]
  },
  {
   "cell_type": "code",
   "execution_count": 19,
   "id": "7658f037-a08b-4451-aeb9-b14aaa18eddd",
   "metadata": {},
   "outputs": [
    {
     "name": "stderr",
     "output_type": "stream",
     "text": [
      "01:40:36 - cmdstanpy - INFO - Chain [1] start processing\n",
      "01:40:36 - cmdstanpy - INFO - Chain [1] done processing\n"
     ]
    },
    {
     "name": "stdout",
     "output_type": "stream",
     "text": [
      "------ Fold 1--------\n"
     ]
    },
    {
     "name": "stderr",
     "output_type": "stream",
     "text": [
      "01:40:36 - cmdstanpy - INFO - Chain [1] start processing\n",
      "01:40:36 - cmdstanpy - INFO - Chain [1] done processing\n",
      "01:40:36 - cmdstanpy - INFO - Chain [1] start processing\n",
      "01:40:37 - cmdstanpy - INFO - Chain [1] done processing\n",
      "01:40:37 - cmdstanpy - INFO - Chain [1] start processing\n",
      "01:40:37 - cmdstanpy - INFO - Chain [1] done processing\n",
      "01:40:37 - cmdstanpy - INFO - Chain [1] start processing\n",
      "01:40:37 - cmdstanpy - INFO - Chain [1] done processing\n",
      "01:40:37 - cmdstanpy - INFO - Chain [1] start processing\n",
      "01:40:37 - cmdstanpy - INFO - Chain [1] done processing\n"
     ]
    },
    {
     "name": "stdout",
     "output_type": "stream",
     "text": [
      "------ Fold 2--------\n"
     ]
    },
    {
     "name": "stderr",
     "output_type": "stream",
     "text": [
      "01:40:37 - cmdstanpy - INFO - Chain [1] start processing\n",
      "01:40:37 - cmdstanpy - INFO - Chain [1] done processing\n",
      "01:40:37 - cmdstanpy - INFO - Chain [1] start processing\n",
      "01:40:37 - cmdstanpy - INFO - Chain [1] done processing\n",
      "01:40:37 - cmdstanpy - INFO - Chain [1] start processing\n",
      "01:40:38 - cmdstanpy - INFO - Chain [1] done processing\n",
      "01:40:38 - cmdstanpy - INFO - Chain [1] start processing\n",
      "01:40:38 - cmdstanpy - INFO - Chain [1] done processing\n",
      "01:40:38 - cmdstanpy - INFO - Chain [1] start processing\n",
      "01:40:38 - cmdstanpy - INFO - Chain [1] done processing\n"
     ]
    },
    {
     "name": "stdout",
     "output_type": "stream",
     "text": [
      "------ Fold 3--------\n"
     ]
    },
    {
     "name": "stderr",
     "output_type": "stream",
     "text": [
      "01:40:38 - cmdstanpy - INFO - Chain [1] start processing\n",
      "01:40:38 - cmdstanpy - INFO - Chain [1] done processing\n",
      "01:40:38 - cmdstanpy - INFO - Chain [1] start processing\n",
      "01:40:38 - cmdstanpy - INFO - Chain [1] done processing\n",
      "01:40:39 - cmdstanpy - INFO - Chain [1] start processing\n",
      "01:40:39 - cmdstanpy - INFO - Chain [1] done processing\n",
      "01:40:39 - cmdstanpy - INFO - Chain [1] start processing\n",
      "01:40:39 - cmdstanpy - INFO - Chain [1] done processing\n",
      "01:40:39 - cmdstanpy - INFO - Chain [1] start processing\n",
      "01:40:39 - cmdstanpy - INFO - Chain [1] done processing\n"
     ]
    },
    {
     "name": "stdout",
     "output_type": "stream",
     "text": [
      "------ Fold 4--------\n"
     ]
    },
    {
     "name": "stderr",
     "output_type": "stream",
     "text": [
      "01:40:39 - cmdstanpy - INFO - Chain [1] start processing\n",
      "01:40:40 - cmdstanpy - INFO - Chain [1] done processing\n",
      "01:40:40 - cmdstanpy - INFO - Chain [1] start processing\n",
      "01:40:40 - cmdstanpy - INFO - Chain [1] done processing\n",
      "01:40:40 - cmdstanpy - INFO - Chain [1] start processing\n",
      "01:40:40 - cmdstanpy - INFO - Chain [1] done processing\n",
      "01:40:40 - cmdstanpy - INFO - Chain [1] start processing\n",
      "01:40:40 - cmdstanpy - INFO - Chain [1] done processing\n",
      "01:40:41 - cmdstanpy - INFO - Chain [1] start processing\n"
     ]
    },
    {
     "name": "stdout",
     "output_type": "stream",
     "text": [
      "------ Fold 5--------\n"
     ]
    },
    {
     "name": "stderr",
     "output_type": "stream",
     "text": [
      "01:40:41 - cmdstanpy - INFO - Chain [1] done processing\n",
      "01:40:41 - cmdstanpy - INFO - Chain [1] start processing\n",
      "01:40:41 - cmdstanpy - INFO - Chain [1] done processing\n",
      "01:40:41 - cmdstanpy - INFO - Chain [1] start processing\n",
      "01:40:41 - cmdstanpy - INFO - Chain [1] done processing\n",
      "01:40:41 - cmdstanpy - INFO - Chain [1] start processing\n",
      "01:40:41 - cmdstanpy - INFO - Chain [1] done processing\n",
      "01:40:42 - cmdstanpy - INFO - Chain [1] start processing\n",
      "01:40:42 - cmdstanpy - INFO - Chain [1] done processing\n"
     ]
    }
   ],
   "source": [
    "# Initialize Nested Cross-Validation with 5 folds\n",
    "cv = NestedCV(5)\n",
    "splits = cv.split(resampled_data, \"date\")\n",
    "fold=1\n",
    "final_result=pd.DataFrame({\"Brand\":[],\"MAPE\":[],\"Fold\":[]})\n",
    "\n",
    "# Loop through each train-validation split in the cross-validation\n",
    "for train, validate in splits:\n",
    "    print(f\"------ Fold {fold}--------\")\n",
    "    for brand, group in train.groupby('brand'): \n",
    "        temp=group[[\"date\",\"quantity\"]]\n",
    "        temp.columns=[\"ds\",\"y\"]\n",
    "        # Initialize and fit the Prophet model\n",
    "        m=Prophet()\n",
    "        m.fit(temp)\n",
    "        # Prepare validation data for forecasting\n",
    "        v_temp=validate[validate[\"brand\"]==brand][[\"date\",\"quantity\"]]\n",
    "        v_temp.columns=[\"ds\",\"y\"]\n",
    "        # Generate forecast using the trained Prophet model\n",
    "        forecast = m.predict(v_temp[[\"ds\"]])\n",
    "        # Merge actual and forecasted data\n",
    "        result=pd.merge(v_temp, forecast[[\"ds\",\"yhat\"]], on='ds')\n",
    "        # Calculate Absolute Percentage Error (APE) and Mean Absolute Percentage Error (MAPE)\n",
    "        result['APE'] = np.abs((result['y'] - result['yhat']) / result['y']) * 100\n",
    "        mape = np.mean(result['APE'])\n",
    "        # print(f'MAPE of {brand}: {mape:.2f}%')\n",
    "        final_result = pd.concat([final_result, pd.DataFrame([{\"Brand\": brand, \"MAPE\": mape, \"Fold\": fold}])], ignore_index=True)\n",
    "\n",
    "    fold=fold+1 \n",
    "    "
   ]
  },
  {
   "cell_type": "code",
   "execution_count": 20,
   "id": "8aa226f8-4965-4162-acdc-9f5e2cff707f",
   "metadata": {},
   "outputs": [
    {
     "data": {
      "text/html": [
       "<div>\n",
       "<style scoped>\n",
       "    .dataframe tbody tr th:only-of-type {\n",
       "        vertical-align: middle;\n",
       "    }\n",
       "\n",
       "    .dataframe tbody tr th {\n",
       "        vertical-align: top;\n",
       "    }\n",
       "\n",
       "    .dataframe thead th {\n",
       "        text-align: right;\n",
       "    }\n",
       "</style>\n",
       "<table border=\"1\" class=\"dataframe\">\n",
       "  <thead>\n",
       "    <tr style=\"text-align: right;\">\n",
       "      <th></th>\n",
       "      <th>Brand</th>\n",
       "      <th>MAPE</th>\n",
       "      <th>Fold</th>\n",
       "    </tr>\n",
       "  </thead>\n",
       "  <tbody>\n",
       "    <tr>\n",
       "      <th>24</th>\n",
       "      <td>orange-power</td>\n",
       "      <td>5.804694</td>\n",
       "      <td>5.0</td>\n",
       "    </tr>\n",
       "    <tr>\n",
       "      <th>23</th>\n",
       "      <td>lemon-boost</td>\n",
       "      <td>6.218594</td>\n",
       "      <td>5.0</td>\n",
       "    </tr>\n",
       "    <tr>\n",
       "      <th>22</th>\n",
       "      <td>kinder-cola</td>\n",
       "      <td>5.252834</td>\n",
       "      <td>5.0</td>\n",
       "    </tr>\n",
       "    <tr>\n",
       "      <th>21</th>\n",
       "      <td>gazoza</td>\n",
       "      <td>10.742014</td>\n",
       "      <td>5.0</td>\n",
       "    </tr>\n",
       "    <tr>\n",
       "      <th>20</th>\n",
       "      <td>adult-cola</td>\n",
       "      <td>5.304644</td>\n",
       "      <td>5.0</td>\n",
       "    </tr>\n",
       "    <tr>\n",
       "      <th>19</th>\n",
       "      <td>orange-power</td>\n",
       "      <td>7.972170</td>\n",
       "      <td>4.0</td>\n",
       "    </tr>\n",
       "    <tr>\n",
       "      <th>18</th>\n",
       "      <td>lemon-boost</td>\n",
       "      <td>6.218352</td>\n",
       "      <td>4.0</td>\n",
       "    </tr>\n",
       "    <tr>\n",
       "      <th>17</th>\n",
       "      <td>kinder-cola</td>\n",
       "      <td>5.481717</td>\n",
       "      <td>4.0</td>\n",
       "    </tr>\n",
       "    <tr>\n",
       "      <th>16</th>\n",
       "      <td>gazoza</td>\n",
       "      <td>13.349993</td>\n",
       "      <td>4.0</td>\n",
       "    </tr>\n",
       "    <tr>\n",
       "      <th>15</th>\n",
       "      <td>adult-cola</td>\n",
       "      <td>11.457783</td>\n",
       "      <td>4.0</td>\n",
       "    </tr>\n",
       "    <tr>\n",
       "      <th>13</th>\n",
       "      <td>lemon-boost</td>\n",
       "      <td>11.343404</td>\n",
       "      <td>3.0</td>\n",
       "    </tr>\n",
       "    <tr>\n",
       "      <th>14</th>\n",
       "      <td>orange-power</td>\n",
       "      <td>10.647084</td>\n",
       "      <td>3.0</td>\n",
       "    </tr>\n",
       "    <tr>\n",
       "      <th>12</th>\n",
       "      <td>kinder-cola</td>\n",
       "      <td>9.933689</td>\n",
       "      <td>3.0</td>\n",
       "    </tr>\n",
       "    <tr>\n",
       "      <th>11</th>\n",
       "      <td>gazoza</td>\n",
       "      <td>11.911382</td>\n",
       "      <td>3.0</td>\n",
       "    </tr>\n",
       "    <tr>\n",
       "      <th>10</th>\n",
       "      <td>adult-cola</td>\n",
       "      <td>8.958909</td>\n",
       "      <td>3.0</td>\n",
       "    </tr>\n",
       "    <tr>\n",
       "      <th>9</th>\n",
       "      <td>orange-power</td>\n",
       "      <td>25.605094</td>\n",
       "      <td>2.0</td>\n",
       "    </tr>\n",
       "    <tr>\n",
       "      <th>8</th>\n",
       "      <td>lemon-boost</td>\n",
       "      <td>28.273691</td>\n",
       "      <td>2.0</td>\n",
       "    </tr>\n",
       "    <tr>\n",
       "      <th>7</th>\n",
       "      <td>kinder-cola</td>\n",
       "      <td>25.085382</td>\n",
       "      <td>2.0</td>\n",
       "    </tr>\n",
       "    <tr>\n",
       "      <th>6</th>\n",
       "      <td>gazoza</td>\n",
       "      <td>25.986615</td>\n",
       "      <td>2.0</td>\n",
       "    </tr>\n",
       "    <tr>\n",
       "      <th>5</th>\n",
       "      <td>adult-cola</td>\n",
       "      <td>31.680018</td>\n",
       "      <td>2.0</td>\n",
       "    </tr>\n",
       "    <tr>\n",
       "      <th>1</th>\n",
       "      <td>gazoza</td>\n",
       "      <td>49.675375</td>\n",
       "      <td>1.0</td>\n",
       "    </tr>\n",
       "    <tr>\n",
       "      <th>4</th>\n",
       "      <td>orange-power</td>\n",
       "      <td>33.550887</td>\n",
       "      <td>1.0</td>\n",
       "    </tr>\n",
       "    <tr>\n",
       "      <th>3</th>\n",
       "      <td>lemon-boost</td>\n",
       "      <td>27.776305</td>\n",
       "      <td>1.0</td>\n",
       "    </tr>\n",
       "    <tr>\n",
       "      <th>2</th>\n",
       "      <td>kinder-cola</td>\n",
       "      <td>25.655448</td>\n",
       "      <td>1.0</td>\n",
       "    </tr>\n",
       "    <tr>\n",
       "      <th>0</th>\n",
       "      <td>adult-cola</td>\n",
       "      <td>24.262567</td>\n",
       "      <td>1.0</td>\n",
       "    </tr>\n",
       "  </tbody>\n",
       "</table>\n",
       "</div>"
      ],
      "text/plain": [
       "           Brand       MAPE  Fold\n",
       "24  orange-power   5.804694   5.0\n",
       "23   lemon-boost   6.218594   5.0\n",
       "22   kinder-cola   5.252834   5.0\n",
       "21        gazoza  10.742014   5.0\n",
       "20    adult-cola   5.304644   5.0\n",
       "19  orange-power   7.972170   4.0\n",
       "18   lemon-boost   6.218352   4.0\n",
       "17   kinder-cola   5.481717   4.0\n",
       "16        gazoza  13.349993   4.0\n",
       "15    adult-cola  11.457783   4.0\n",
       "13   lemon-boost  11.343404   3.0\n",
       "14  orange-power  10.647084   3.0\n",
       "12   kinder-cola   9.933689   3.0\n",
       "11        gazoza  11.911382   3.0\n",
       "10    adult-cola   8.958909   3.0\n",
       "9   orange-power  25.605094   2.0\n",
       "8    lemon-boost  28.273691   2.0\n",
       "7    kinder-cola  25.085382   2.0\n",
       "6         gazoza  25.986615   2.0\n",
       "5     adult-cola  31.680018   2.0\n",
       "1         gazoza  49.675375   1.0\n",
       "4   orange-power  33.550887   1.0\n",
       "3    lemon-boost  27.776305   1.0\n",
       "2    kinder-cola  25.655448   1.0\n",
       "0     adult-cola  24.262567   1.0"
      ]
     },
     "execution_count": 20,
     "metadata": {},
     "output_type": "execute_result"
    }
   ],
   "source": [
    "# Result of validation set on each fold\n",
    "final_result.sort_values(by=\"Fold\",ascending=False)"
   ]
  },
  {
   "cell_type": "markdown",
   "id": "b50ea6f6-5b5d-4e80-9b17-c2a2fae4e9b8",
   "metadata": {},
   "source": [
    "## LSTM using darts\n",
    "\n",
    "### Note on LSTM Model Performance and Nested CV\n",
    "\n",
    "LSTM models typically require large training datasets for optimal performance. However, in our case, the use of nested cross-validation results in smaller training dataset sizes. As a consequence, the model performance may be affected negatively.\n",
    "\n",
    "It's worth noting that for higher values of K (folds), LSTM may become impractical, as the minimum training data size required by LSTM is 25. Given our limited training data size, adjustments to the cross-validation strategy may be necessary to accommodate the specific requirements of LSTM models.\n"
   ]
  },
  {
   "cell_type": "code",
   "execution_count": 42,
   "id": "cc9dae1b-e35c-406c-aa7c-547668c43c62",
   "metadata": {},
   "outputs": [
    {
     "name": "stderr",
     "output_type": "stream",
     "text": [
      "ignoring user defined `output_chunk_length`. RNNModel uses a fixed `output_chunk_length=1`.\n",
      "GPU available: False, used: False\n",
      "TPU available: False, using: 0 TPU cores\n",
      "IPU available: False, using: 0 IPUs\n",
      "HPU available: False, using: 0 HPUs\n",
      "\n",
      "  | Name          | Type             | Params\n",
      "---------------------------------------------------\n",
      "0 | criterion     | MSELoss          | 0     \n",
      "1 | train_metrics | MetricCollection | 0     \n",
      "2 | val_metrics   | MetricCollection | 0     \n",
      "3 | rnn           | LSTM             | 2.8 K \n",
      "4 | V             | Linear           | 26    \n",
      "---------------------------------------------------\n",
      "2.8 K     Trainable params\n",
      "0         Non-trainable params\n",
      "2.8 K     Total params\n",
      "0.011     Total estimated model params size (MB)\n"
     ]
    },
    {
     "data": {
      "application/vnd.jupyter.widget-view+json": {
       "model_id": "296fbccebead4dcc949bd9eef28d4ba0",
       "version_major": 2,
       "version_minor": 0
      },
      "text/plain": [
       "Training: |                                                                                      | 0/? [00:00<…"
      ]
     },
     "metadata": {},
     "output_type": "display_data"
    },
    {
     "name": "stderr",
     "output_type": "stream",
     "text": [
      "`Trainer.fit` stopped: `max_epochs=5` reached.\n",
      "GPU available: False, used: False\n",
      "TPU available: False, using: 0 TPU cores\n",
      "IPU available: False, using: 0 IPUs\n",
      "HPU available: False, using: 0 HPUs\n"
     ]
    },
    {
     "data": {
      "application/vnd.jupyter.widget-view+json": {
       "model_id": "dd7b37141f7c4cc88c5194391fe51867",
       "version_major": 2,
       "version_minor": 0
      },
      "text/plain": [
       "Predicting: |                                                                                    | 0/? [00:00<…"
      ]
     },
     "metadata": {},
     "output_type": "display_data"
    },
    {
     "name": "stderr",
     "output_type": "stream",
     "text": [
      "GPU available: False, used: False\n",
      "TPU available: False, using: 0 TPU cores\n",
      "IPU available: False, using: 0 IPUs\n",
      "HPU available: False, using: 0 HPUs\n"
     ]
    },
    {
     "name": "stdout",
     "output_type": "stream",
     "text": [
      "Mape of adult-cola on validation set is : 22.328518831591484\n"
     ]
    },
    {
     "data": {
      "application/vnd.jupyter.widget-view+json": {
       "model_id": "b876cca6611942b993935fffda2f6261",
       "version_major": 2,
       "version_minor": 0
      },
      "text/plain": [
       "Predicting: |                                                                                    | 0/? [00:00<…"
      ]
     },
     "metadata": {},
     "output_type": "display_data"
    },
    {
     "name": "stderr",
     "output_type": "stream",
     "text": [
      "GPU available: False, used: False\n",
      "TPU available: False, using: 0 TPU cores\n",
      "IPU available: False, using: 0 IPUs\n",
      "HPU available: False, using: 0 HPUs\n"
     ]
    },
    {
     "name": "stdout",
     "output_type": "stream",
     "text": [
      "Mape of gazoza on validation set is : 31.23888715669662\n"
     ]
    },
    {
     "data": {
      "application/vnd.jupyter.widget-view+json": {
       "model_id": "6427d27cca4a4afc9c0cd3d02ba819b1",
       "version_major": 2,
       "version_minor": 0
      },
      "text/plain": [
       "Predicting: |                                                                                    | 0/? [00:00<…"
      ]
     },
     "metadata": {},
     "output_type": "display_data"
    },
    {
     "name": "stdout",
     "output_type": "stream",
     "text": [
      "Mape of kinder-cola on validation set is : 72.04026978143435\n"
     ]
    },
    {
     "name": "stderr",
     "output_type": "stream",
     "text": [
      "GPU available: False, used: False\n",
      "TPU available: False, using: 0 TPU cores\n",
      "IPU available: False, using: 0 IPUs\n",
      "HPU available: False, using: 0 HPUs\n"
     ]
    },
    {
     "data": {
      "application/vnd.jupyter.widget-view+json": {
       "model_id": "1482b53cb027434190c62db909083b63",
       "version_major": 2,
       "version_minor": 0
      },
      "text/plain": [
       "Predicting: |                                                                                    | 0/? [00:00<…"
      ]
     },
     "metadata": {},
     "output_type": "display_data"
    },
    {
     "name": "stderr",
     "output_type": "stream",
     "text": [
      "GPU available: False, used: False\n",
      "TPU available: False, using: 0 TPU cores\n",
      "IPU available: False, using: 0 IPUs\n",
      "HPU available: False, using: 0 HPUs\n"
     ]
    },
    {
     "name": "stdout",
     "output_type": "stream",
     "text": [
      "Mape of lemon-boost on validation set is : 28.34421775130288\n"
     ]
    },
    {
     "data": {
      "application/vnd.jupyter.widget-view+json": {
       "model_id": "223b725315d740649df8cc0b2a8d787c",
       "version_major": 2,
       "version_minor": 0
      },
      "text/plain": [
       "Predicting: |                                                                                    | 0/? [00:00<…"
      ]
     },
     "metadata": {},
     "output_type": "display_data"
    },
    {
     "name": "stdout",
     "output_type": "stream",
     "text": [
      "Mape of orange-power on validation set is : 24.50222455712496\n"
     ]
    }
   ],
   "source": [
    "\"\"\"Given our limited training data size, increasing the number of folds beyond 1 in the cross-validation process\n",
    "will further reduce the training dataset. This reduction may lead to an error with the LSTM model, as it requires a\n",
    "minimum training data size (25).\"\"\"\n",
    "\n",
    "#Reimporting the mape as the mape variable is used above\n",
    "from darts.metrics import mape\n",
    "cv = NestedCV(1)\n",
    "splits = cv.split(resampled_data, \"date\")\n",
    "for train, validate in splits:\n",
    "    train_series_dict={}\n",
    "    train.set_index(\"date\",inplace=True)\n",
    "    validate.set_index(\"date\",inplace=True)\n",
    "    for brand, group in train.groupby('brand'): \n",
    "        group['quantity'] = group['quantity'].fillna(method='ffill')\n",
    "        ts= TimeSeries.from_dataframe(group[['quantity']], freq='M') \n",
    "        scaler_obj= Scaler() \n",
    "        ts=scaler_obj.fit_transform(ts)\n",
    "        train_series_dict[brand]=ts\n",
    "    all_series = list(train_series_dict.values())\n",
    "    model = RNNModel(model='LSTM', input_chunk_length=4, output_chunk_length=1, n_epochs=5) \n",
    "    # model = NBEATSModel(input_chunk_length=3, output_chunk_length=1, n_epochs=5)\n",
    "    # model = XGBModel(lags=10) \n",
    "    model.fit(all_series)\n",
    "    for brand, group in validate.groupby('brand'):\n",
    "        group['quantity'] = group['quantity'].fillna(method='ffill') \n",
    "        ts= TimeSeries.from_dataframe(group[['quantity']], freq='M') \n",
    "        forecast = model.predict(n=len(ts),series=train_series_dict[brand]) \n",
    "        # Evaluate performance using MAPE \n",
    "        forecast= scaler_obj.inverse_transform(forecast) \n",
    "        mape_value  = mape(ts, forecast)\n",
    "        print(f\"Mape of {brand} on validation set is : {mape_value}\")\n",
    "        "
   ]
  }
 ],
 "metadata": {
  "kernelspec": {
   "display_name": "Python 3 (ipykernel)",
   "language": "python",
   "name": "python3"
  },
  "language_info": {
   "codemirror_mode": {
    "name": "ipython",
    "version": 3
   },
   "file_extension": ".py",
   "mimetype": "text/x-python",
   "name": "python",
   "nbconvert_exporter": "python",
   "pygments_lexer": "ipython3",
   "version": "3.8.10"
  }
 },
 "nbformat": 4,
 "nbformat_minor": 5
}
